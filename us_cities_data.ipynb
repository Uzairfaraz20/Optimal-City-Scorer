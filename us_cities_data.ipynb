{
 "cells": [
  {
   "cell_type": "code",
   "execution_count": 150,
   "metadata": {
    "collapsed": true
   },
   "outputs": [],
   "source": [
    "# The purpose of this project was to find which cities would \n",
    "# be the best to live in according to a weighted mean created from\n",
    "# certain statistics. This was a rather simple, introductory\n",
    "# project to get used to using Pandas and numpy in the\n",
    "# Jupyter Notebook."
   ]
  },
  {
   "cell_type": "code",
   "execution_count": 1,
   "metadata": {
    "collapsed": true
   },
   "outputs": [],
   "source": [
    "import pandas as pd\n",
    "import numpy as np\n",
    "import cufflinks as cf\n",
    "import plotly.plotly as py\n",
    "import plotly.tools as tls\n",
    "import plotly.graph_objs as go\n",
    "import seaborn as sb"
   ]
  },
  {
   "cell_type": "code",
   "execution_count": null,
   "metadata": {
    "collapsed": true
   },
   "outputs": [],
   "source": []
  },
  {
   "cell_type": "code",
   "execution_count": 2,
   "metadata": {
    "collapsed": true
   },
   "outputs": [],
   "source": [
    "# LIST OF ALL CREATED TABLES #\n",
    "\n",
    "# cities_table\n",
    "# sqft_price_table\n",
    "# house_price_table\n",
    "# most_affordable_table\n",
    "# sqft_price_table\n",
    "# life_quality_table\n",
    "# safety_table\n",
    "# pollution_table\n",
    "# climate_table\n",
    "# stats_table\n",
    "# corr_table\n",
    "# weighted_table\n",
    "# sorted_weighted_table"
   ]
  },
  {
   "cell_type": "code",
   "execution_count": 4,
   "metadata": {},
   "outputs": [
    {
     "data": {
      "text/html": [
       "<div>\n",
       "<style>\n",
       "    .dataframe thead tr:only-child th {\n",
       "        text-align: right;\n",
       "    }\n",
       "\n",
       "    .dataframe thead th {\n",
       "        text-align: left;\n",
       "    }\n",
       "\n",
       "    .dataframe tbody tr th {\n",
       "        vertical-align: top;\n",
       "    }\n",
       "</style>\n",
       "<table border=\"1\" class=\"dataframe\">\n",
       "  <thead>\n",
       "    <tr style=\"text-align: right;\">\n",
       "      <th></th>\n",
       "      <th>City-State</th>\n",
       "      <th>Quality of Life Index</th>\n",
       "      <th>Purchasing Power Index</th>\n",
       "      <th>Cost of Living Index</th>\n",
       "      <th>Avg House Price by $X,000s</th>\n",
       "      <th>Price Per Square Foot by $</th>\n",
       "      <th>Safety Index</th>\n",
       "      <th>Pollution Index</th>\n",
       "      <th>Climate Index</th>\n",
       "    </tr>\n",
       "  </thead>\n",
       "  <tbody>\n",
       "    <tr>\n",
       "      <th>0</th>\n",
       "      <td>Phoenix-AZ</td>\n",
       "      <td>161.05</td>\n",
       "      <td>146.15</td>\n",
       "      <td>64.29</td>\n",
       "      <td>253</td>\n",
       "      <td>156</td>\n",
       "      <td>45.22</td>\n",
       "      <td>60.09</td>\n",
       "      <td>53.76</td>\n",
       "    </tr>\n",
       "    <tr>\n",
       "      <th>1</th>\n",
       "      <td>Los Angeles-CA</td>\n",
       "      <td>150.53</td>\n",
       "      <td>114.51</td>\n",
       "      <td>77.51</td>\n",
       "      <td>644</td>\n",
       "      <td>428</td>\n",
       "      <td>51.39</td>\n",
       "      <td>59.10</td>\n",
       "      <td>95.61</td>\n",
       "    </tr>\n",
       "    <tr>\n",
       "      <th>2</th>\n",
       "      <td>San Diego-CA</td>\n",
       "      <td>198.75</td>\n",
       "      <td>144.91</td>\n",
       "      <td>77.24</td>\n",
       "      <td>584</td>\n",
       "      <td>374</td>\n",
       "      <td>66.75</td>\n",
       "      <td>33.53</td>\n",
       "      <td>97.08</td>\n",
       "    </tr>\n",
       "    <tr>\n",
       "      <th>3</th>\n",
       "      <td>San Francisco-CA</td>\n",
       "      <td>171.99</td>\n",
       "      <td>125.95</td>\n",
       "      <td>96.85</td>\n",
       "      <td>949</td>\n",
       "      <td>497</td>\n",
       "      <td>50.14</td>\n",
       "      <td>33.89</td>\n",
       "      <td>97.34</td>\n",
       "    </tr>\n",
       "    <tr>\n",
       "      <th>4</th>\n",
       "      <td>Sacramento-CA</td>\n",
       "      <td>191.84</td>\n",
       "      <td>145.88</td>\n",
       "      <td>75.52</td>\n",
       "      <td>399</td>\n",
       "      <td>240</td>\n",
       "      <td>51.52</td>\n",
       "      <td>39.91</td>\n",
       "      <td>90.64</td>\n",
       "    </tr>\n",
       "    <tr>\n",
       "      <th>5</th>\n",
       "      <td>Denver-CO</td>\n",
       "      <td>170.96</td>\n",
       "      <td>130.34</td>\n",
       "      <td>72.00</td>\n",
       "      <td>398</td>\n",
       "      <td>264</td>\n",
       "      <td>59.32</td>\n",
       "      <td>41.52</td>\n",
       "      <td>56.28</td>\n",
       "    </tr>\n",
       "    <tr>\n",
       "      <th>6</th>\n",
       "      <td>Chicago-IL</td>\n",
       "      <td>160.80</td>\n",
       "      <td>133.70</td>\n",
       "      <td>77.31</td>\n",
       "      <td>219</td>\n",
       "      <td>164</td>\n",
       "      <td>34.77</td>\n",
       "      <td>38.32</td>\n",
       "      <td>66.11</td>\n",
       "    </tr>\n",
       "    <tr>\n",
       "      <th>7</th>\n",
       "      <td>Detroit-MI</td>\n",
       "      <td>134.20</td>\n",
       "      <td>97.41</td>\n",
       "      <td>62.75</td>\n",
       "      <td>154</td>\n",
       "      <td>132</td>\n",
       "      <td>28.81</td>\n",
       "      <td>54.82</td>\n",
       "      <td>66.03</td>\n",
       "    </tr>\n",
       "    <tr>\n",
       "      <th>8</th>\n",
       "      <td>Portland-OR</td>\n",
       "      <td>189.37</td>\n",
       "      <td>126.03</td>\n",
       "      <td>74.16</td>\n",
       "      <td>389</td>\n",
       "      <td>231</td>\n",
       "      <td>55.00</td>\n",
       "      <td>26.02</td>\n",
       "      <td>89.56</td>\n",
       "    </tr>\n",
       "    <tr>\n",
       "      <th>9</th>\n",
       "      <td>Austin-TX</td>\n",
       "      <td>193.35</td>\n",
       "      <td>151.25</td>\n",
       "      <td>70.47</td>\n",
       "      <td>308</td>\n",
       "      <td>211</td>\n",
       "      <td>65.10</td>\n",
       "      <td>38.12</td>\n",
       "      <td>82.04</td>\n",
       "    </tr>\n",
       "    <tr>\n",
       "      <th>10</th>\n",
       "      <td>Dallas-TX</td>\n",
       "      <td>188.97</td>\n",
       "      <td>153.42</td>\n",
       "      <td>64.71</td>\n",
       "      <td>295</td>\n",
       "      <td>156</td>\n",
       "      <td>54.78</td>\n",
       "      <td>38.95</td>\n",
       "      <td>82.58</td>\n",
       "    </tr>\n",
       "    <tr>\n",
       "      <th>11</th>\n",
       "      <td>Houston-TX</td>\n",
       "      <td>176.47</td>\n",
       "      <td>155.88</td>\n",
       "      <td>62.17</td>\n",
       "      <td>227</td>\n",
       "      <td>137</td>\n",
       "      <td>40.92</td>\n",
       "      <td>51.37</td>\n",
       "      <td>86.11</td>\n",
       "    </tr>\n",
       "    <tr>\n",
       "      <th>12</th>\n",
       "      <td>San Antonio-TX</td>\n",
       "      <td>194.13</td>\n",
       "      <td>150.96</td>\n",
       "      <td>58.09</td>\n",
       "      <td>184</td>\n",
       "      <td>123</td>\n",
       "      <td>57.70</td>\n",
       "      <td>42.30</td>\n",
       "      <td>81.17</td>\n",
       "    </tr>\n",
       "    <tr>\n",
       "      <th>13</th>\n",
       "      <td>Salt Lake City-UT</td>\n",
       "      <td>180.80</td>\n",
       "      <td>150.76</td>\n",
       "      <td>62.98</td>\n",
       "      <td>334</td>\n",
       "      <td>203</td>\n",
       "      <td>74.80</td>\n",
       "      <td>59.01</td>\n",
       "      <td>66.52</td>\n",
       "    </tr>\n",
       "    <tr>\n",
       "      <th>14</th>\n",
       "      <td>Seattle-WA</td>\n",
       "      <td>186.39</td>\n",
       "      <td>140.00</td>\n",
       "      <td>85.48</td>\n",
       "      <td>490</td>\n",
       "      <td>275</td>\n",
       "      <td>55.82</td>\n",
       "      <td>29.70</td>\n",
       "      <td>91.78</td>\n",
       "    </tr>\n",
       "  </tbody>\n",
       "</table>\n",
       "</div>"
      ],
      "text/plain": [
       "           City-State  Quality of Life Index  Purchasing Power Index  \\\n",
       "0          Phoenix-AZ                 161.05                  146.15   \n",
       "1      Los Angeles-CA                 150.53                  114.51   \n",
       "2        San Diego-CA                 198.75                  144.91   \n",
       "3    San Francisco-CA                 171.99                  125.95   \n",
       "4       Sacramento-CA                 191.84                  145.88   \n",
       "5           Denver-CO                 170.96                  130.34   \n",
       "6          Chicago-IL                 160.80                  133.70   \n",
       "7          Detroit-MI                 134.20                   97.41   \n",
       "8         Portland-OR                 189.37                  126.03   \n",
       "9           Austin-TX                 193.35                  151.25   \n",
       "10          Dallas-TX                 188.97                  153.42   \n",
       "11         Houston-TX                 176.47                  155.88   \n",
       "12     San Antonio-TX                 194.13                  150.96   \n",
       "13  Salt Lake City-UT                 180.80                  150.76   \n",
       "14         Seattle-WA                 186.39                  140.00   \n",
       "\n",
       "    Cost of Living Index  Avg House Price by $X,000s  \\\n",
       "0                  64.29                         253   \n",
       "1                  77.51                         644   \n",
       "2                  77.24                         584   \n",
       "3                  96.85                         949   \n",
       "4                  75.52                         399   \n",
       "5                  72.00                         398   \n",
       "6                  77.31                         219   \n",
       "7                  62.75                         154   \n",
       "8                  74.16                         389   \n",
       "9                  70.47                         308   \n",
       "10                 64.71                         295   \n",
       "11                 62.17                         227   \n",
       "12                 58.09                         184   \n",
       "13                 62.98                         334   \n",
       "14                 85.48                         490   \n",
       "\n",
       "    Price Per Square Foot by $  Safety Index  Pollution Index  Climate Index  \n",
       "0                          156         45.22            60.09          53.76  \n",
       "1                          428         51.39            59.10          95.61  \n",
       "2                          374         66.75            33.53          97.08  \n",
       "3                          497         50.14            33.89          97.34  \n",
       "4                          240         51.52            39.91          90.64  \n",
       "5                          264         59.32            41.52          56.28  \n",
       "6                          164         34.77            38.32          66.11  \n",
       "7                          132         28.81            54.82          66.03  \n",
       "8                          231         55.00            26.02          89.56  \n",
       "9                          211         65.10            38.12          82.04  \n",
       "10                         156         54.78            38.95          82.58  \n",
       "11                         137         40.92            51.37          86.11  \n",
       "12                         123         57.70            42.30          81.17  \n",
       "13                         203         74.80            59.01          66.52  \n",
       "14                         275         55.82            29.70          91.78  "
      ]
     },
     "execution_count": 4,
     "metadata": {},
     "output_type": "execute_result"
    }
   ],
   "source": [
    "# Create the DataFrame that include cities that are of interest\n",
    "\n",
    "cities_table = pd.DataFrame({'City-State': ['Phoenix-AZ', 'Los Angeles-CA', 'San Diego-CA', 'San Francisco-CA', 'Sacramento-CA', 'Denver-CO',\n",
    "                                            'Chicago-IL', 'Detroit-MI', 'Portland-OR', 'Austin-TX', 'Dallas-TX', 'Houston-TX', 'San Antonio-TX',\n",
    "                                            'Salt Lake City-UT', 'Seattle-WA'],\n",
    "                             'Avg House Price by $X,000s'  : [253, 644, 584, 949, 399, 398, 219, 154, 389, 308, 295, 227, 184, 334, 490],\n",
    "                             'Price Per Square Foot by $'  : [156, 428, 374, 497, 240, 264, 164, 132, 231, 211, 156, 137, 123, 203, 275 ],\n",
    "                             'Cost of Living Index'        : [64.29, 77.51, 77.24, 96.85, 75.52, 72.00, 77.31, 62.75, 74.16, 70.47, 64.71, 62.17, 58.09, 62.98, 85.48],\n",
    "                             'Quality of Life Index'       : [161.05, 150.53, 198.75, 171.99, 191.84, 170.96, 160.80, 134.20, 189.37, 193.35, 188.97, 176.47, 194.13, 180.80, 186.39],\n",
    "                             'Purchasing Power Index'      : [146.15, 114.51, 144.91, 125.95, 145.88, 130.34, 133.70, 97.41, 126.03, 151.25, 153.42, 155.88, 150.96, 150.76, 140.00],\n",
    "                             'Safety Index'                : [45.22, 51.39, 66.75, 50.14, 51.52, 59.32, 34.77, 28.81, 55.00, 65.10, 54.78, 40.92, 57.70, 74.80, 55.82 ],\n",
    "                             'Pollution Index'             : [60.09, 59.10, 33.53, 33.89, 39.91, 41.52, 38.32, 54.82, 26.02, 38.12, 38.95, 51.37, 42.30, 59.01, 29.70],\n",
    "                             'Climate Index'               : [53.76, 95.61, 97.08, 97.34, 90.64, 56.28, 66.11, 66.03, 89.56, 82.04, 82.58, 86.11, 81.17, 66.52, 91.78]\n",
    "                             \n",
    "                                       })\n",
    "\n",
    "\n",
    "# Rearrange DataFrame to make it readable\n",
    "cities_table = cities_table[['City-State', 'Quality of Life Index', 'Purchasing Power Index' , 'Cost of Living Index',\n",
    "                             'Avg House Price by $X,000s', 'Price Per Square Foot by $', 'Safety Index',\n",
    "                             'Pollution Index', 'Climate Index' ]]\n",
    "cities_table"
   ]
  },
  {
   "cell_type": "code",
   "execution_count": 8,
   "metadata": {
    "collapsed": true,
    "scrolled": false
   },
   "outputs": [],
   "source": [
    "# Uncomment to see Raw Table\n",
    "\n",
    "# # SQFT PRICE\n",
    "# # Sort by ascending Price Per Square Foot cost to get a # look at cities with most affordable land\n",
    "# sqft_price_table = cities_table[['City-State', 'Price Per Square Foot by $']]\n",
    "# sqft_price_table = sqft_price_table.sort_values(ascending = True, by=['Price Per Square Foot by $'])\n",
    "# sqft_price_table\n",
    "\n"
   ]
  },
  {
   "cell_type": "code",
   "execution_count": 5,
   "metadata": {},
   "outputs": [
    {
     "data": {
      "text/html": [
       "<iframe id=\"igraph\" scrolling=\"no\" style=\"border:none;\" seamless=\"seamless\" src=\"https://plot.ly/~UzairM20/28.embed\" height=\"525px\" width=\"100%\"></iframe>"
      ],
      "text/plain": [
       "<plotly.tools.PlotlyDisplay object>"
      ]
     },
     "execution_count": 5,
     "metadata": {},
     "output_type": "execute_result"
    }
   ],
   "source": [
    "# Visualization for sqft\n",
    "\n",
    "sqft_plotly_graph = [go.Bar(x = cities_table['City-State'], y = cities_table['Price Per Square Foot by $'])]\n",
    "\n",
    "layout =  dict(title = 'Sqft Price',\n",
    "              xaxis = dict(title = 'City'),\n",
    "              yaxis = dict(title = 'Price per sqft'))\n",
    "\n",
    "\n",
    "sqft_color_theme = dict(color=['rgba(0,0,0,1)', 'rgba(0,0,0,1))','rgba(0,0,0,1)', 'rgba(0,0,0,1)',\n",
    "                          'rgba(0,0,0,1)', 'rgba(0,0,0,1)','rgba(0,0,0,1)', 'rgba(0,0,0,1)',\n",
    "                         'rgba(0,0,0,1)', 'rgba(0,0,0,1)','rgba(0,0,0,1)','rgba(0,0,0,1)',\n",
    "                         'rgba(0,0,0,1)','rgba(0,0,0,1)','rgba(0,0,0,1)'])\n",
    "\n",
    "sqft_colored_scores = go.Bar(x = cities_table['City-State'], y = cities_table['Price Per Square Foot by $'], marker = sqft_color_theme)\n",
    "data = [sqft_colored_scores]\n",
    "layout = go.Layout(title='Sqft Price per City')\n",
    "fig = go.Figure(data=data, layout=layout)\n",
    "\n",
    "py.iplot(fig, filename='Sqft Price (Colored)')\n",
    "\n"
   ]
  },
  {
   "cell_type": "code",
   "execution_count": 6,
   "metadata": {
    "collapsed": true
   },
   "outputs": [],
   "source": [
    "# Uncomment to see Raw Table\n",
    "\n",
    "# # HOUSE PRICES\n",
    "\n",
    "# # Sort by ascending house price to get a\n",
    "# # look at cities with most affordable housing\n",
    "# house_price_table = cities_table[['City-State', 'Avg House Price by $X,000s']]\n",
    "# house_price_table = house_price_table.sort_values(ascending = True, by=['Avg House Price by $X,000s'])\n",
    "# house_price_table"
   ]
  },
  {
   "cell_type": "code",
   "execution_count": 7,
   "metadata": {},
   "outputs": [
    {
     "data": {
      "text/html": [
       "<iframe id=\"igraph\" scrolling=\"no\" style=\"border:none;\" seamless=\"seamless\" src=\"https://plot.ly/~UzairM20/16.embed\" height=\"525px\" width=\"100%\"></iframe>"
      ],
      "text/plain": [
       "<plotly.tools.PlotlyDisplay object>"
      ]
     },
     "execution_count": 7,
     "metadata": {},
     "output_type": "execute_result"
    }
   ],
   "source": [
    "# Visualization for sqft\n",
    "\n",
    "house_plotly_graph = [go.Bar(x = cities_table['City-State'], y = cities_table['Avg House Price by $X,000s'])]\n",
    "\n",
    "layout =  dict(title = 'House Price Avg',\n",
    "              xaxis = dict(title = 'City'),\n",
    "              yaxis = dict(title = 'Avg House Price by $X,000s'))\n",
    "\n",
    "\n",
    "house_color_theme = dict(color=['rgba(128,128,128,1)', 'rgba(128,128,128,1)','rgba(128,128,128,1)', 'rgba(128,128,128,1)',\n",
    "                          'rgba(128,128,128,1)', 'rgba(128,128,128,1)','rgba(128,128,128,1)', 'rgba(128,128,128,1)',\n",
    "                         'rgba(128,128,128,1)', 'rgba(128,128,128,1)','rgba(128,128,128,1)','rgba(128,128,128,1)',\n",
    "                         'rgba(128,128,128,1)','rgba(128,128,128,1)','rgba(128,128,128,1)'])\n",
    "\n",
    "house_colored_scores = go.Bar(x = cities_table['City-State'], y = cities_table['Avg House Price by $X,000s'], marker = house_color_theme)\n",
    "data = [house_colored_scores]\n",
    "layout = go.Layout(title='House Price per City')\n",
    "fig = go.Figure(data=data, layout=layout)\n",
    "\n",
    "\n",
    "py.iplot(fig, filename='House price (Colored)')"
   ]
  },
  {
   "cell_type": "code",
   "execution_count": null,
   "metadata": {
    "collapsed": true,
    "scrolled": true
   },
   "outputs": [],
   "source": []
  },
  {
   "cell_type": "code",
   "execution_count": 8,
   "metadata": {
    "collapsed": true
   },
   "outputs": [],
   "source": [
    "#Uncomment for Raw Table\n",
    "\n",
    "# COST OF LIVING \n",
    "\n",
    "# # Sort by ascending cost of living price to get a\n",
    "# # look at cities with most affordable living\n",
    "# most_affordable_table = cities_table[['City-State', 'Cost of Living Index']]\n",
    "# most_affordable_table = most_affordable_table.sort_values(ascending = True, by=['Cost of Living Index'])\n",
    "# most_affordable_table\n",
    "\n",
    "\n"
   ]
  },
  {
   "cell_type": "code",
   "execution_count": 9,
   "metadata": {},
   "outputs": [
    {
     "data": {
      "text/html": [
       "<iframe id=\"igraph\" scrolling=\"no\" style=\"border:none;\" seamless=\"seamless\" src=\"https://plot.ly/~UzairM20/14.embed\" height=\"525px\" width=\"100%\"></iframe>"
      ],
      "text/plain": [
       "<plotly.tools.PlotlyDisplay object>"
      ]
     },
     "execution_count": 9,
     "metadata": {},
     "output_type": "execute_result"
    }
   ],
   "source": [
    "#Visualization\n",
    "cost_plotly_graph = [go.Bar(x = cities_table['City-State'], y = cities_table['Cost of Living Index'])]\n",
    "\n",
    "layout =  dict(title = 'Cost of Living',\n",
    "              xaxis = dict(title = 'City'),\n",
    "              yaxis = dict(title = 'Cost of Living Index'))\n",
    "\n",
    "\n",
    "cost_color_theme = dict(color=['rgba(255,0,0,1)', 'rgba(255,0,0,1)','rgba(255,0,0,1)', 'rgba(255,0,0,1)',\n",
    "                          'rgba(255,0,0,1)', 'rgba(255,0,0,1)','rgba(255,0,0,1)', 'rgba(255,0,0,1)',\n",
    "                         'rgba(255,0,0,1)', 'rgba(255,0,0,1)','rgba(255,0,0,1)','rgba(255,0,0,1)',\n",
    "                         'rgba(255,0,0,1)','rgba(255,0,0,1)','rgba(255,0,0,1)'])\n",
    "\n",
    "cost_colored_scores = go.Bar(x = cities_table['City-State'], y = cities_table['Cost of Living Index'], marker = cost_color_theme)\n",
    "data = [cost_colored_scores]\n",
    "layout = go.Layout(title='Cost of Living by city')\n",
    "fig = go.Figure(data=data, layout=layout)\n",
    "\n",
    "\n",
    "py.iplot(fig, filename='Cost of Living (Colored)')"
   ]
  },
  {
   "cell_type": "code",
   "execution_count": 10,
   "metadata": {
    "collapsed": true
   },
   "outputs": [],
   "source": [
    "# Uncomment for Raw Table\n",
    "\n",
    "# # PURCHSING POWER \n",
    "\n",
    "# # Sort by descending PPI to get a\n",
    "# # second facctor for Cost Of Living\n",
    "# sqft_price_table = cities_table[['City-State', 'Purchasing Power Index']]\n",
    "# sqft_price_table = sqft_price_table.sort_values(ascending = False, by=['Purchasing Power Index'])\n",
    "# sqft_price_table"
   ]
  },
  {
   "cell_type": "code",
   "execution_count": 11,
   "metadata": {},
   "outputs": [
    {
     "data": {
      "text/html": [
       "<iframe id=\"igraph\" scrolling=\"no\" style=\"border:none;\" seamless=\"seamless\" src=\"https://plot.ly/~UzairM20/18.embed\" height=\"525px\" width=\"100%\"></iframe>"
      ],
      "text/plain": [
       "<plotly.tools.PlotlyDisplay object>"
      ]
     },
     "execution_count": 11,
     "metadata": {},
     "output_type": "execute_result"
    }
   ],
   "source": [
    "# Visualization for PPI\n",
    "\n",
    "ppi_plotly_graph = [go.Bar(x = cities_table['City-State'], y = cities_table['Purchasing Power Index'])]\n",
    "\n",
    "layout =  dict(title = 'Purchasing Power',\n",
    "              xaxis = dict(title = 'City'),\n",
    "              yaxis = dict(title = 'PPI'))\n",
    "\n",
    "\n",
    "ppi_color_theme = dict(color=['rgba(255,255,0,1)', 'rgba(255,255,0,1)','rgba(255,255,0,1)', 'rgba(255,255,0,1)',\n",
    "                          'rgba(255,255,0,1)', 'rgba(255,255,0,1)','rgba(255,255,0,1)', 'rgba(255,255,0,1)',\n",
    "                         'rgba(255,255,0,1)', 'rgba(255,255,0,1)','rgba(255,255,0,1)','rgba(255,255,0,1)',\n",
    "                         'rgba(255,255,0,1)','rgba(255,255,0,1)','rgba(255,255,0,1)'])\n",
    "\n",
    "ppi_colored_scores = go.Bar(x = cities_table['City-State'], y = cities_table['Purchasing Power Index'], marker = ppi_color_theme)\n",
    "data = [ppi_colored_scores]\n",
    "layout = go.Layout(title='Purchasing Power Index')\n",
    "fig = go.Figure(data=data, layout=layout)\n",
    "\n",
    "py.iplot(fig, filename='Purchasing Power (Colored)')"
   ]
  },
  {
   "cell_type": "code",
   "execution_count": 12,
   "metadata": {
    "collapsed": true
   },
   "outputs": [],
   "source": [
    "# # QUALITY OF LIFE\n",
    "\n",
    "# # Sort by descending quality of life index to get a\n",
    "# # look at cities with best quality of life\n",
    "# life_quality_table = cities_table[['City-State', 'Quality of Life Index']]\n",
    "# life_quality_table = life_quality_table.sort_values(ascending = False, by=['Quality of Life Index'])\n",
    "# life_quality_table"
   ]
  },
  {
   "cell_type": "code",
   "execution_count": 13,
   "metadata": {},
   "outputs": [
    {
     "data": {
      "text/html": [
       "<iframe id=\"igraph\" scrolling=\"no\" style=\"border:none;\" seamless=\"seamless\" src=\"https://plot.ly/~UzairM20/20.embed\" height=\"525px\" width=\"100%\"></iframe>"
      ],
      "text/plain": [
       "<plotly.tools.PlotlyDisplay object>"
      ]
     },
     "execution_count": 13,
     "metadata": {},
     "output_type": "execute_result"
    }
   ],
   "source": [
    "# Visualization for QOL\n",
    "\n",
    "qol_plotly_graph = [go.Bar(x = cities_table['City-State'], y = cities_table['Quality of Life Index'])]\n",
    "\n",
    "layout =  dict(title = 'Quality of Life',\n",
    "              xaxis = dict(title = 'City'),\n",
    "              yaxis = dict(title = 'QOL'))\n",
    "\n",
    "\n",
    "qol_color_theme = dict(color=['rgba(0,255,0,1)', 'rgba(0,255,0,1)','rgba(0,255,0,1)', 'rgba(0,255,0,1)',\n",
    "                          'rgba(0,255,0,1)', 'rgba(0,255,0,1)','rgba(0,255,0,1)', 'rgba(0,255,0,1)',\n",
    "                         'rgba(0,255,0,1)', 'rgba(0,255,0,1)','rgba(0,255,0,1)','rgba(0,255,0,1)',\n",
    "                         'rgba(0,255,0,1)','rgba(0,255,0,1)','rgba(0,255,0,1)'])\n",
    "\n",
    "qol_colored_scores = go.Bar(x = cities_table['City-State'], y = cities_table['Quality of Life Index'], marker = qol_color_theme)\n",
    "data = [qol_colored_scores]\n",
    "layout = go.Layout(title='Quality of Life ')\n",
    "fig = go.Figure(data=data, layout=layout)\n",
    "\n",
    "py.iplot(fig, filename='Quality of Life (Colored)')"
   ]
  },
  {
   "cell_type": "code",
   "execution_count": 14,
   "metadata": {
    "collapsed": true
   },
   "outputs": [],
   "source": [
    "# # SAFETY\n",
    "\n",
    "# # Sort by descending safety index to get a\n",
    "# # look at the safest cities\n",
    "# safety_table = cities_table[['City-State', 'Safety Index']]\n",
    "# safety_table = safety_table.sort_values(ascending = False, by=['Safety Index'])\n",
    "# safety_table"
   ]
  },
  {
   "cell_type": "code",
   "execution_count": 15,
   "metadata": {},
   "outputs": [
    {
     "data": {
      "text/html": [
       "<iframe id=\"igraph\" scrolling=\"no\" style=\"border:none;\" seamless=\"seamless\" src=\"https://plot.ly/~UzairM20/22.embed\" height=\"525px\" width=\"100%\"></iframe>"
      ],
      "text/plain": [
       "<plotly.tools.PlotlyDisplay object>"
      ]
     },
     "execution_count": 15,
     "metadata": {},
     "output_type": "execute_result"
    }
   ],
   "source": [
    "# Visualization for Safety\n",
    "\n",
    "safety_plotly_graph = [go.Bar(x = cities_table['City-State'], y = cities_table['Safety Index'])]\n",
    "\n",
    "layout =  dict(title = 'Safety',\n",
    "              xaxis = dict(title = 'City'),\n",
    "              yaxis = dict(title = 'Safety Index'))\n",
    "\n",
    "\n",
    "safety_color_theme = dict(color=['rgba(0,255,255,1)', 'rgba(0,255,255,1)','rgba(0,255,255,1)', 'rgba(0,255,255,1)',\n",
    "                          'rgba(0,255,255,1)', 'rgba(0,255,255,1)','rgba(0,255,255,1)', 'rgba(0,255,255,1)',\n",
    "                         'rgba(0,255,255,1)', 'rgba(0,255,255,1)','rgba(0,255,255,1)','rgba(0,255,255,1)',\n",
    "                         'rgba(0,255,255,1)','rgba(0,255,255,1)','rgba(0,255,255,1)'])\n",
    "\n",
    "safety_colored_scores = go.Bar(x = cities_table['City-State'], y = cities_table['Safety Index'], marker = safety_color_theme)\n",
    "data = [safety_colored_scores]\n",
    "layout = go.Layout(title='Safety Index')\n",
    "fig = go.Figure(data=data, layout=layout)\n",
    "\n",
    "py.iplot(fig, filename='Safety Index (Colored)')"
   ]
  },
  {
   "cell_type": "code",
   "execution_count": 16,
   "metadata": {
    "collapsed": true
   },
   "outputs": [],
   "source": [
    "# # POLLUTION\n",
    "\n",
    "# # Sort by ascending Pollution index to get a\n",
    "# # look at the least polluted cities\n",
    "# pollution_table = cities_table[['City-State', 'Pollution Index']]\n",
    "# pollution_table = pollution_table.sort_values(ascending = True, by=['Pollution Index'])\n",
    "# pollution_table"
   ]
  },
  {
   "cell_type": "code",
   "execution_count": 17,
   "metadata": {},
   "outputs": [
    {
     "data": {
      "text/html": [
       "<iframe id=\"igraph\" scrolling=\"no\" style=\"border:none;\" seamless=\"seamless\" src=\"https://plot.ly/~UzairM20/24.embed\" height=\"525px\" width=\"100%\"></iframe>"
      ],
      "text/plain": [
       "<plotly.tools.PlotlyDisplay object>"
      ]
     },
     "execution_count": 17,
     "metadata": {},
     "output_type": "execute_result"
    }
   ],
   "source": [
    "# Visualization for Pollution\n",
    "\n",
    "pollution_plotly_graph = [go.Bar(x = cities_table['City-State'], y = cities_table['Pollution Index'])]\n",
    "\n",
    "layout =  dict(title = 'Pollution',\n",
    "              xaxis = dict(title = 'City'),\n",
    "              yaxis = dict(title = 'Pollution Index'))\n",
    "\n",
    "\n",
    "pollution_color_theme = dict(color=['rgba(0,0,255,1)', 'rgba(0,0,255,1)','rgba(0,0,255,1)', 'rgba(0,0,255,1)',\n",
    "                          'rgba(0,0,255,1)', 'rgba(0,0,255,1)','rgba(0,0,255,1)', 'rgba(0,0,255,1)',\n",
    "                         'rgba(0,0,255,1)', 'rgba(0,0,255,1)','rgba(0,0,255,1)','rgba(0,0,255,1)',\n",
    "                         'rgba(0,0,255,1)','rgba(0,0,255,1)','rgba(0,0,255,1)'])\n",
    "\n",
    "pollution_colored_scores = go.Bar(x = cities_table['City-State'], y = cities_table['Pollution Index'], marker = pollution_color_theme)\n",
    "data = [pollution_colored_scores]\n",
    "layout = go.Layout(title='Pollution Index')\n",
    "fig = go.Figure(data=data, layout=layout)\n",
    "\n",
    "py.iplot(fig, filename='Pollution Index (Colored)')"
   ]
  },
  {
   "cell_type": "code",
   "execution_count": 18,
   "metadata": {
    "collapsed": true
   },
   "outputs": [],
   "source": [
    "# # CLIMATE\n",
    "\n",
    "# # Sort by descening climate index to get a\n",
    "# # look at cities with the best weather\n",
    "# climate_table = cities_table[['City-State', 'Climate Index']]\n",
    "# climate_table = climate_table.sort_values(ascending = False, by=['Climate Index'])\n",
    "# climate_table"
   ]
  },
  {
   "cell_type": "code",
   "execution_count": 19,
   "metadata": {},
   "outputs": [
    {
     "data": {
      "text/html": [
       "<iframe id=\"igraph\" scrolling=\"no\" style=\"border:none;\" seamless=\"seamless\" src=\"https://plot.ly/~UzairM20/26.embed\" height=\"525px\" width=\"100%\"></iframe>"
      ],
      "text/plain": [
       "<plotly.tools.PlotlyDisplay object>"
      ]
     },
     "execution_count": 19,
     "metadata": {},
     "output_type": "execute_result"
    }
   ],
   "source": [
    "# Visualization for Climate\n",
    "\n",
    "climate_plotly_graph = [go.Bar(x = cities_table['City-State'], y = cities_table['Climate Index'])]\n",
    "\n",
    "layout =  dict(title = 'Climate',\n",
    "              xaxis = dict(title = 'City'),\n",
    "              yaxis = dict(title = 'Climate Index'))\n",
    "\n",
    "\n",
    "climate_color_theme = dict(color=['rgba(255,0,255,1)', 'rgba(255,0,255,1)','rgba(255,0,255,1)', 'rgba(255,0,255,1)',\n",
    "                          'rgba(255,0,255,1)', 'rgba(255,0,255,1)','rgba(255,0,255,1)', 'rgba(255,0,255,1)',\n",
    "                         'rgba(255,0,255,1)', 'rgba(255,0,255,1)','rgba(255,0,255,1)','rgba(255,0,255,1)',\n",
    "                         'rgba(255,0,255,1)','rgba(255,0,255,1)','rgba(255,0,255,1)'])\n",
    "\n",
    "climate_colored_scores = go.Bar(x = cities_table['City-State'], y = cities_table['Climate Index'], marker = climate_color_theme)\n",
    "data = [climate_colored_scores]\n",
    "layout = go.Layout(title='Climate Index')\n",
    "fig = go.Figure(data=data, layout=layout)\n",
    "\n",
    "py.iplot(fig, filename='Climate Index (Colored)')"
   ]
  },
  {
   "cell_type": "code",
   "execution_count": null,
   "metadata": {
    "collapsed": true,
    "scrolled": true
   },
   "outputs": [],
   "source": []
  },
  {
   "cell_type": "code",
   "execution_count": null,
   "metadata": {
    "collapsed": true
   },
   "outputs": [],
   "source": []
  },
  {
   "cell_type": "code",
   "execution_count": null,
   "metadata": {
    "collapsed": true
   },
   "outputs": [],
   "source": []
  },
  {
   "cell_type": "code",
   "execution_count": null,
   "metadata": {
    "collapsed": true
   },
   "outputs": [],
   "source": [
    "\n"
   ]
  },
  {
   "cell_type": "code",
   "execution_count": null,
   "metadata": {
    "collapsed": true
   },
   "outputs": [],
   "source": []
  },
  {
   "cell_type": "code",
   "execution_count": 20,
   "metadata": {},
   "outputs": [
    {
     "data": {
      "text/plain": [
       "City-State           \n",
       "Austin-TX          9     86.7579\n",
       "Chicago-IL         6     89.9822\n",
       "Dallas-TX          10    89.4487\n",
       "Denver-CO          5     79.5226\n",
       "Detroit-MI         7     92.7923\n",
       "Houston-TX         11    92.3274\n",
       "Los Angeles-CA     1     62.0649\n",
       "Phoenix-AZ         0     89.3608\n",
       "Portland-OR        8     82.2541\n",
       "Sacramento-CA      4     81.5741\n",
       "Salt Lake City-UT  13    85.5635\n",
       "San Antonio-TX     12    95.6369\n",
       "San Diego-CA       2     69.2925\n",
       "San Francisco-CA   3     47.5610\n",
       "Seattle-WA         14    76.0154\n",
       "dtype: float64"
      ]
     },
     "execution_count": 20,
     "metadata": {},
     "output_type": "execute_result"
    }
   ],
   "source": [
    "weighted_table = cities_table.groupby('City-State')\n",
    "def wavg(group):\n",
    "    a = group['Safety Index']\n",
    "    b = group['Climate Index']\n",
    "    c = group['Quality of Life Index']\n",
    "    d = group['Purchasing Power Index']\n",
    "    e = group['Cost of Living Index']\n",
    "    f = group['Avg House Price by $X,000s']\n",
    "    g = group['Price Per Square Foot by $']\n",
    "    h = group['Pollution Index']\n",
    "\n",
    "    return  (((0.20*c) + (0.05*d) - (0.20*e) - (0.20*f) - (0.20*g) + (0.05*a) - (0.05*h) + (0.05*b) + 500)/500) * 100 \n",
    "    \n",
    "weighted_table = weighted_table.apply(wavg)\n",
    "weighted_table\n"
   ]
  },
  {
   "cell_type": "code",
   "execution_count": 21,
   "metadata": {},
   "outputs": [
    {
     "data": {
      "text/plain": [
       "City-State           \n",
       "San Francisco-CA   3     47.5610\n",
       "Los Angeles-CA     1     62.0649\n",
       "San Diego-CA       2     69.2925\n",
       "Seattle-WA         14    76.0154\n",
       "Denver-CO          5     79.5226\n",
       "Sacramento-CA      4     81.5741\n",
       "Portland-OR        8     82.2541\n",
       "Salt Lake City-UT  13    85.5635\n",
       "Austin-TX          9     86.7579\n",
       "Phoenix-AZ         0     89.3608\n",
       "Dallas-TX          10    89.4487\n",
       "Chicago-IL         6     89.9822\n",
       "Houston-TX         11    92.3274\n",
       "Detroit-MI         7     92.7923\n",
       "San Antonio-TX     12    95.6369\n",
       "dtype: float64"
      ]
     },
     "execution_count": 21,
     "metadata": {},
     "output_type": "execute_result"
    }
   ],
   "source": [
    "sorted_weighted_table = weighted_table.sort_values(ascending = True)\n",
    "sorted_weighted_table"
   ]
  },
  {
   "cell_type": "code",
   "execution_count": 22,
   "metadata": {},
   "outputs": [
    {
     "data": {
      "text/plain": [
       "<matplotlib.axes._subplots.AxesSubplot at 0x23143661710>"
      ]
     },
     "execution_count": 22,
     "metadata": {},
     "output_type": "execute_result"
    }
   ],
   "source": [
    "sorted_weighted_table.plot(kind = 'barh', color = 'c')\n"
   ]
  },
  {
   "cell_type": "code",
   "execution_count": 23,
   "metadata": {},
   "outputs": [
    {
     "data": {
      "text/html": [
       "<div>\n",
       "<style>\n",
       "    .dataframe thead tr:only-child th {\n",
       "        text-align: right;\n",
       "    }\n",
       "\n",
       "    .dataframe thead th {\n",
       "        text-align: left;\n",
       "    }\n",
       "\n",
       "    .dataframe tbody tr th {\n",
       "        vertical-align: top;\n",
       "    }\n",
       "</style>\n",
       "<table border=\"1\" class=\"dataframe\">\n",
       "  <thead>\n",
       "    <tr style=\"text-align: right;\">\n",
       "      <th></th>\n",
       "      <th>City</th>\n",
       "      <th>Score</th>\n",
       "    </tr>\n",
       "  </thead>\n",
       "  <tbody>\n",
       "    <tr>\n",
       "      <th>0</th>\n",
       "      <td>San Francisco-CA</td>\n",
       "      <td>47.5610</td>\n",
       "    </tr>\n",
       "    <tr>\n",
       "      <th>1</th>\n",
       "      <td>Los Angeles-CA</td>\n",
       "      <td>62.0649</td>\n",
       "    </tr>\n",
       "    <tr>\n",
       "      <th>2</th>\n",
       "      <td>San Diego-CA</td>\n",
       "      <td>69.2925</td>\n",
       "    </tr>\n",
       "    <tr>\n",
       "      <th>3</th>\n",
       "      <td>Seattle-WA</td>\n",
       "      <td>76.0154</td>\n",
       "    </tr>\n",
       "    <tr>\n",
       "      <th>4</th>\n",
       "      <td>Denver-CO</td>\n",
       "      <td>79.5226</td>\n",
       "    </tr>\n",
       "    <tr>\n",
       "      <th>5</th>\n",
       "      <td>Sacramento-CA</td>\n",
       "      <td>81.5741</td>\n",
       "    </tr>\n",
       "    <tr>\n",
       "      <th>6</th>\n",
       "      <td>Portland-OR</td>\n",
       "      <td>82.2541</td>\n",
       "    </tr>\n",
       "    <tr>\n",
       "      <th>7</th>\n",
       "      <td>Salt Lake City-UT</td>\n",
       "      <td>85.5635</td>\n",
       "    </tr>\n",
       "    <tr>\n",
       "      <th>8</th>\n",
       "      <td>Austin-TX</td>\n",
       "      <td>86.7579</td>\n",
       "    </tr>\n",
       "    <tr>\n",
       "      <th>9</th>\n",
       "      <td>Phoenix-AZ</td>\n",
       "      <td>89.3608</td>\n",
       "    </tr>\n",
       "    <tr>\n",
       "      <th>10</th>\n",
       "      <td>Dallas-TX</td>\n",
       "      <td>89.4487</td>\n",
       "    </tr>\n",
       "    <tr>\n",
       "      <th>11</th>\n",
       "      <td>Chicago-IL</td>\n",
       "      <td>89.9822</td>\n",
       "    </tr>\n",
       "    <tr>\n",
       "      <th>12</th>\n",
       "      <td>Houston-TX</td>\n",
       "      <td>92.3274</td>\n",
       "    </tr>\n",
       "    <tr>\n",
       "      <th>13</th>\n",
       "      <td>Detroit-MI</td>\n",
       "      <td>92.7923</td>\n",
       "    </tr>\n",
       "    <tr>\n",
       "      <th>14</th>\n",
       "      <td>San Antonio-TX</td>\n",
       "      <td>95.6369</td>\n",
       "    </tr>\n",
       "  </tbody>\n",
       "</table>\n",
       "</div>"
      ],
      "text/plain": [
       "                  City    Score\n",
       "0    San Francisco-CA   47.5610\n",
       "1      Los Angeles-CA   62.0649\n",
       "2        San Diego-CA   69.2925\n",
       "3          Seattle-WA   76.0154\n",
       "4           Denver-CO   79.5226\n",
       "5       Sacramento-CA   81.5741\n",
       "6         Portland-OR   82.2541\n",
       "7   Salt Lake City-UT   85.5635\n",
       "8           Austin-TX   86.7579\n",
       "9          Phoenix-AZ   89.3608\n",
       "10          Dallas-TX   89.4487\n",
       "11         Chicago-IL   89.9822\n",
       "12         Houston-TX   92.3274\n",
       "13         Detroit-MI   92.7923\n",
       "14     San Antonio-TX   95.6369"
      ]
     },
     "execution_count": 23,
     "metadata": {},
     "output_type": "execute_result"
    }
   ],
   "source": [
    "scores_plotly = pd.read_csv('graph.csv')\n",
    "scores_plotly"
   ]
  },
  {
   "cell_type": "code",
   "execution_count": 24,
   "metadata": {},
   "outputs": [
    {
     "data": {
      "text/html": [
       "<div>\n",
       "<style>\n",
       "    .dataframe thead tr:only-child th {\n",
       "        text-align: right;\n",
       "    }\n",
       "\n",
       "    .dataframe thead th {\n",
       "        text-align: left;\n",
       "    }\n",
       "\n",
       "    .dataframe tbody tr th {\n",
       "        vertical-align: top;\n",
       "    }\n",
       "</style>\n",
       "<table border=\"1\" class=\"dataframe\">\n",
       "  <thead>\n",
       "    <tr style=\"text-align: right;\">\n",
       "      <th></th>\n",
       "      <th>City</th>\n",
       "      <th>Score</th>\n",
       "    </tr>\n",
       "  </thead>\n",
       "  <tbody>\n",
       "    <tr>\n",
       "      <th>14</th>\n",
       "      <td>San Antonio-TX</td>\n",
       "      <td>95.6369</td>\n",
       "    </tr>\n",
       "    <tr>\n",
       "      <th>13</th>\n",
       "      <td>Detroit-MI</td>\n",
       "      <td>92.7923</td>\n",
       "    </tr>\n",
       "    <tr>\n",
       "      <th>12</th>\n",
       "      <td>Houston-TX</td>\n",
       "      <td>92.3274</td>\n",
       "    </tr>\n",
       "    <tr>\n",
       "      <th>11</th>\n",
       "      <td>Chicago-IL</td>\n",
       "      <td>89.9822</td>\n",
       "    </tr>\n",
       "    <tr>\n",
       "      <th>10</th>\n",
       "      <td>Dallas-TX</td>\n",
       "      <td>89.4487</td>\n",
       "    </tr>\n",
       "    <tr>\n",
       "      <th>9</th>\n",
       "      <td>Phoenix-AZ</td>\n",
       "      <td>89.3608</td>\n",
       "    </tr>\n",
       "    <tr>\n",
       "      <th>8</th>\n",
       "      <td>Austin-TX</td>\n",
       "      <td>86.7579</td>\n",
       "    </tr>\n",
       "    <tr>\n",
       "      <th>7</th>\n",
       "      <td>Salt Lake City-UT</td>\n",
       "      <td>85.5635</td>\n",
       "    </tr>\n",
       "    <tr>\n",
       "      <th>6</th>\n",
       "      <td>Portland-OR</td>\n",
       "      <td>82.2541</td>\n",
       "    </tr>\n",
       "    <tr>\n",
       "      <th>5</th>\n",
       "      <td>Sacramento-CA</td>\n",
       "      <td>81.5741</td>\n",
       "    </tr>\n",
       "    <tr>\n",
       "      <th>4</th>\n",
       "      <td>Denver-CO</td>\n",
       "      <td>79.5226</td>\n",
       "    </tr>\n",
       "    <tr>\n",
       "      <th>3</th>\n",
       "      <td>Seattle-WA</td>\n",
       "      <td>76.0154</td>\n",
       "    </tr>\n",
       "    <tr>\n",
       "      <th>2</th>\n",
       "      <td>San Diego-CA</td>\n",
       "      <td>69.2925</td>\n",
       "    </tr>\n",
       "    <tr>\n",
       "      <th>1</th>\n",
       "      <td>Los Angeles-CA</td>\n",
       "      <td>62.0649</td>\n",
       "    </tr>\n",
       "    <tr>\n",
       "      <th>0</th>\n",
       "      <td>San Francisco-CA</td>\n",
       "      <td>47.5610</td>\n",
       "    </tr>\n",
       "  </tbody>\n",
       "</table>\n",
       "</div>"
      ],
      "text/plain": [
       "                  City    Score\n",
       "14     San Antonio-TX   95.6369\n",
       "13         Detroit-MI   92.7923\n",
       "12         Houston-TX   92.3274\n",
       "11         Chicago-IL   89.9822\n",
       "10          Dallas-TX   89.4487\n",
       "9          Phoenix-AZ   89.3608\n",
       "8           Austin-TX   86.7579\n",
       "7   Salt Lake City-UT   85.5635\n",
       "6         Portland-OR   82.2541\n",
       "5       Sacramento-CA   81.5741\n",
       "4           Denver-CO   79.5226\n",
       "3          Seattle-WA   76.0154\n",
       "2        San Diego-CA   69.2925\n",
       "1      Los Angeles-CA   62.0649\n",
       "0    San Francisco-CA   47.5610"
      ]
     },
     "execution_count": 24,
     "metadata": {},
     "output_type": "execute_result"
    }
   ],
   "source": [
    "scores_plotly.sort_values(ascending = False, by = 'Score' )"
   ]
  },
  {
   "cell_type": "code",
   "execution_count": 25,
   "metadata": {},
   "outputs": [
    {
     "name": "stdout",
     "output_type": "stream",
     "text": [
      "[{'type': 'bar', 'x': 0      San Francisco-CA \n",
      "1        Los Angeles-CA \n",
      "2          San Diego-CA \n",
      "3            Seattle-WA \n",
      "4             Denver-CO \n",
      "5         Sacramento-CA \n",
      "6           Portland-OR \n",
      "7     Salt Lake City-UT \n",
      "8             Austin-TX \n",
      "9            Phoenix-AZ \n",
      "10            Dallas-TX \n",
      "11           Chicago-IL \n",
      "12           Houston-TX \n",
      "13           Detroit-MI \n",
      "14       San Antonio-TX \n",
      "Name: City, dtype: object, 'y': 0     47.5610\n",
      "1     62.0649\n",
      "2     69.2925\n",
      "3     76.0154\n",
      "4     79.5226\n",
      "5     81.5741\n",
      "6     82.2541\n",
      "7     85.5635\n",
      "8     86.7579\n",
      "9     89.3608\n",
      "10    89.4487\n",
      "11    89.9822\n",
      "12    92.3274\n",
      "13    92.7923\n",
      "14    95.6369\n",
      "Name: Score, dtype: float64}]\n"
     ]
    }
   ],
   "source": [
    "scores_plotly_graph = [go.Bar(x = scores_plotly['City'], y = scores_plotly['Score'])]\n",
    "print (scores_plotly_graph)"
   ]
  },
  {
   "cell_type": "code",
   "execution_count": 26,
   "metadata": {
    "collapsed": true
   },
   "outputs": [],
   "source": [
    "tls.set_credentials_file(username = 'UzairM20', api_key = '6WWojpa4GHU7kGomwfDh')\n",
    "\n",
    "layout =  dict(title = 'City Scores',\n",
    "              xaxis = dict(title = 'City'),\n",
    "              yaxis = dict(title = 'Score'))\n",
    "# py.iplot(scores_plotly_graph,filename = 'rated cities scores', layout = layout)"
   ]
  },
  {
   "cell_type": "code",
   "execution_count": 27,
   "metadata": {
    "collapsed": true
   },
   "outputs": [],
   "source": [
    "color_theme = dict(color=['rgba(0,0,0,1)', 'rgba(128,128,128,1)','rgba(102,0,0,1)', 'rgba(0,0,204,1)',\n",
    "                          'rgba(255,255,0,1)', 'rgba(0,255,128,1)','rgba(0,153,0,1)', 'rgba(125,258,0,1)',\n",
    "                         'rgba(255,0,0,1)', 'rgba(255,153,153,1)','rgba(255,128,0,1)','rgba(204,153,255,1)',\n",
    "                         'rgba(0,255,255,1)','rgba(102,0,204,1)','rgba(255,0,255,1)'])\n",
    "# print (color_theme)"
   ]
  },
  {
   "cell_type": "code",
   "execution_count": 28,
   "metadata": {},
   "outputs": [
    {
     "data": {
      "text/html": [
       "<iframe id=\"igraph\" scrolling=\"no\" style=\"border:none;\" seamless=\"seamless\" src=\"https://plot.ly/~UzairM20/4.embed\" height=\"525px\" width=\"100%\"></iframe>"
      ],
      "text/plain": [
       "<plotly.tools.PlotlyDisplay object>"
      ]
     },
     "execution_count": 28,
     "metadata": {},
     "output_type": "execute_result"
    }
   ],
   "source": [
    "colored_scores = go.Bar(x = scores_plotly['City'], y = scores_plotly['Score'], marker = color_theme)\n",
    "data = [colored_scores]\n",
    "layout = go.Layout(title='City Scores')\n",
    "fig = go.Figure(data=data, layout=layout)\n",
    "\n",
    "py.iplot(fig, filename='City Score Bar Chart')"
   ]
  },
  {
   "cell_type": "code",
   "execution_count": 33,
   "metadata": {},
   "outputs": [
    {
     "data": {
      "text/plain": [
       "<seaborn.axisgrid.PairGrid at 0x2314e815240>"
      ]
     },
     "execution_count": 33,
     "metadata": {},
     "output_type": "execute_result"
    }
   ],
   "source": []
  },
  {
   "cell_type": "code",
   "execution_count": null,
   "metadata": {
    "collapsed": true
   },
   "outputs": [],
   "source": []
  }
 ],
 "metadata": {
  "kernelspec": {
   "display_name": "Python 3",
   "language": "python",
   "name": "python3"
  },
  "language_info": {
   "codemirror_mode": {
    "name": "ipython",
    "version": 3
   },
   "file_extension": ".py",
   "mimetype": "text/x-python",
   "name": "python",
   "nbconvert_exporter": "python",
   "pygments_lexer": "ipython3",
   "version": "3.6.1"
  }
 },
 "nbformat": 4,
 "nbformat_minor": 2
}
